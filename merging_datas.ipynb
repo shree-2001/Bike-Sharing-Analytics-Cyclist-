{
 "cells": [
  {
   "cell_type": "code",
   "execution_count": 12,
   "id": "2c8e1faf-4dd8-4c65-bfd6-8cd4e69aa1e7",
   "metadata": {},
   "outputs": [],
   "source": [
    "import pandas as pd\n",
    "import os\n",
    "\n",
    "# Directory where your CSV files are located\n",
    "directory = 'C:/Users/dines/Downloads/archive (28)'\n",
    "# List to hold DataFrames\n",
    "dfs = []\n",
    "\n",
    "# Filenames to merge\n",
    "filenames_to_merge = ['202203-divvy-tripdata.csv','202201-divvy-tripdata.csv', '202202-divvy-tripdata.csv']\n",
    "\n",
    "# Loop through each file in the directory\n",
    "for filename in os.listdir(directory):\n",
    "    for ending in filenames_to_merge:\n",
    "        if filename.endswith(ending):\n",
    "            # Read CSV file into a DataFrame\n",
    "            df = pd.read_csv(os.path.join(directory, filename))\n",
    "            # Rename columns if necessary\n",
    "            # Example: df.rename(columns={'old_name': 'new_name'}, inplace=True)\n",
    "            dfs.append(df)\n",
    "\n",
    "# Concatenate DataFrames vertically\n",
    "merged_df = pd.concat(dfs, ignore_index=True)\n",
    "\n",
    "# Reset index\n",
    "merged_df.reset_index(drop=True, inplace=True)\n",
    "\n",
    "# Write merged DataFrame to a new CSV file\n",
    "merged_df.to_csv('merged_data.csv', index=False)\n"
   ]
  },
  {
   "cell_type": "code",
   "execution_count": 9,
   "id": "65f27cb4-4476-4e58-9e4c-0fa7c5ada884",
   "metadata": {},
   "outputs": [
    {
     "name": "stdout",
     "output_type": "stream",
     "text": [
      "Index(['ride_id', 'rideable_type', 'started_at', 'ended_at',\n",
      "       'start_station_name', 'start_station_id', 'end_station_name',\n",
      "       'end_station_id', 'start_lat', 'start_lng', 'end_lat', 'end_lng',\n",
      "       'member_casual'],\n",
      "      dtype='object')\n"
     ]
    }
   ],
   "source": [
    "data = pd.read_csv('merged_data.csv')\n",
    "print(data.columns)"
   ]
  },
  {
   "cell_type": "code",
   "execution_count": null,
   "id": "1cdd9769-d1fe-43bf-b969-87110d02ed6f",
   "metadata": {},
   "outputs": [],
   "source": []
  }
 ],
 "metadata": {
  "kernelspec": {
   "display_name": "Python 3 (ipykernel)",
   "language": "python",
   "name": "python3"
  },
  "language_info": {
   "codemirror_mode": {
    "name": "ipython",
    "version": 3
   },
   "file_extension": ".py",
   "mimetype": "text/x-python",
   "name": "python",
   "nbconvert_exporter": "python",
   "pygments_lexer": "ipython3",
   "version": "3.11.7"
  }
 },
 "nbformat": 4,
 "nbformat_minor": 5
}
