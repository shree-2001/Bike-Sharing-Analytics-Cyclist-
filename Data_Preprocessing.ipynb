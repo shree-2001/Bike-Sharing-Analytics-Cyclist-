{
 "cells": [
  {
   "cell_type": "code",
   "execution_count": 12,
   "id": "b442eb22-7e06-426c-8893-6acb2e0c35d1",
   "metadata": {},
   "outputs": [
    {
     "name": "stdout",
     "output_type": "stream",
     "text": [
      "dataset is fetched\n"
     ]
    }
   ],
   "source": [
    "import pandas as pd\n",
    "data = pd.read_csv(\"merged_data.csv\")\n",
    "print(\"dataset is fetched\")"
   ]
  },
  {
   "cell_type": "code",
   "execution_count": 13,
   "id": "99ae3469-2b93-485e-92c5-0da6cba0053c",
   "metadata": {},
   "outputs": [],
   "source": [
    "import uuid\n",
    "import csv\n",
    "num_values =503422\n",
    "guid_value =[str(uuid.uuid4()) for _ in range(num_values)]\n",
    "csv_file = 'randomguid.csv'\n",
    "column_header = 'ride_id'\n",
    "with open (csv_file, 'w', newline='') as file:\n",
    "    writer =csv.writer(file)\n",
    "    writer.writerow([column_header])\n",
    "    writer.writerows([value] for value in guid_value)"
   ]
  },
  {
   "cell_type": "code",
   "execution_count": 14,
   "id": "ff759276-b1e3-4973-b068-7df850447141",
   "metadata": {},
   "outputs": [],
   "source": [
    "dfs =[]\n",
    "randomguid =pd.read_csv(\"randomguid.csv\")\n",
    "file_name = ['randomguid.csv','merged_data.csv']\n",
    "for  file_name in file_name:\n",
    "    df = pd.read_csv(file_name)\n",
    "    dfs.append(df)\n",
    "\n",
    "merged_dataset = pd.concat(dfs, axis=1)\n",
    "\n",
    "merged_dataset.to_csv('bike_search.csv', index = False)\n",
    "Bikesearch = pd.read_csv('bike_search.csv')"
   ]
  },
  {
   "cell_type": "code",
   "execution_count": 15,
   "id": "1308c08f-713b-4938-b6f5-c77d3a3c3bf3",
   "metadata": {},
   "outputs": [
    {
     "name": "stdout",
     "output_type": "stream",
     "text": [
      "Index(['ride_id', 'ride_id.1', 'rideable_type', 'started_at', 'ended_at',\n",
      "       'start_station_name', 'start_station_id', 'end_station_name',\n",
      "       'end_station_id', 'start_lat', 'start_lng', 'end_lat', 'end_lng',\n",
      "       'member_casual'],\n",
      "      dtype='object')\n"
     ]
    }
   ],
   "source": [
    "print(Bikesearch.columns)"
   ]
  },
  {
   "cell_type": "code",
   "execution_count": 21,
   "id": "f3cf4f36-d868-48c7-bd8c-5de0f40a42b8",
   "metadata": {},
   "outputs": [
    {
     "name": "stdout",
     "output_type": "stream",
     "text": [
      "Null values count: \n",
      " ride_id             0\n",
      "ride_id.1           0\n",
      "rideable_type       0\n",
      "started_at          0\n",
      "ended_at            0\n",
      "start_station_id    0\n",
      "end_station_id      0\n",
      "start_lat           0\n",
      "start_lng           0\n",
      "end_lat             0\n",
      "end_lng             0\n",
      "member_casual       0\n",
      "dtype: int64\n"
     ]
    }
   ],
   "source": [
    "from sklearn.impute import SimpleImputer\n",
    "\n",
    "# Define imputation strategies\n",
    "imputation_strategies = {\n",
    "    'ride_id': 'drop',\n",
    "    'ride_id.1': 'drop',\n",
    "    'rideable_type': 'most_frequent',\n",
    "    'started_at': 'most_frequent',\n",
    "    'ended_at': 'most_frequent',\n",
    "    'start_station_id': 'most_frequent',\n",
    "    'end_station_id': 'most_frequent',\n",
    "    'start_lat': 'mean',\n",
    "    'start_lng': 'mean',\n",
    "    'end_lat': 'mean',\n",
    "    'end_lng': 'mean',\n",
    "    'member_casual': 'most_frequent'\n",
    "}\n",
    "\n",
    "# Drop 'start_station_name' and 'end_station_name' columns\n",
    "Bikesearch = Bikesearch.drop(columns=['start_station_name', 'end_station_name'])\n",
    "\n",
    "# Identify columns with missing values\n",
    "null_cols = Bikesearch.columns[Bikesearch.isnull().any()]\n",
    "\n",
    "# Impute missing values\n",
    "for col in null_cols:\n",
    "    strategy = imputation_strategies.get(col, 'most_frequent')\n",
    "    imputer = SimpleImputer(strategy=strategy)\n",
    "    # Reshape the result of imputation to match the shape expected by DataFrame column\n",
    "    imputed_values = imputer.fit_transform(Bikesearch[[col]]).ravel()\n",
    "    # Assign the imputed values back to the DataFrame column\n",
    "    Bikesearch[col] = imputed_values\n",
    "\n",
    "# Save the DataFrame to a CSV file\n",
    "Bikesearch.to_csv('bikecheck.csv', index=False)\n",
    "\n",
    "# Read the CSV file back into a DataFrame for checking\n",
    "checkdata = pd.read_csv(\"bikecheck.csv\")\n",
    "print(\"Null values count: \\n\", checkdata.isna().sum())"
   ]
  },
  {
   "cell_type": "code",
   "execution_count": 22,
   "id": "eb6de988-5a9c-4c08-90d0-2ad3cb61b6f2",
   "metadata": {},
   "outputs": [
    {
     "name": "stdout",
     "output_type": "stream",
     "text": [
      "Saved classic_bike_data.csv\n",
      "Saved electric_bike_data.csv\n"
     ]
    }
   ],
   "source": [
    "# Create two separate DataFrames based on rideable type\n",
    "classic_bike_data = Bikesearch[Bikesearch['rideable_type'] == 'classic_bike']\n",
    "electric_bike_data = Bikesearch[Bikesearch['rideable_type'] == 'electric_bike']\n",
    "\n",
    "# Save the DataFrames to separate CSV files\n",
    "classic_bike_data.to_csv('classic_bike_data.csv', index=False)\n",
    "electric_bike_data.to_csv('electric_bike_data.csv', index=False)\n",
    "\n",
    "# Check the saved CSV files\n",
    "print(\"Saved classic_bike_data.csv\")\n",
    "print(\"Saved electric_bike_data.csv\")"
   ]
  },
  {
   "cell_type": "code",
   "execution_count": 37,
   "id": "ed66822a-a142-4757-8285-4692d21e342e",
   "metadata": {},
   "outputs": [
    {
     "name": "stdout",
     "output_type": "stream",
     "text": [
      "Index(['ride_id', 'ride_id.1', 'rideable_type', 'started_at', 'ended_at',\n",
      "       'start_station_id', 'end_station_id', 'start_lat', 'start_lng',\n",
      "       'end_lat', 'end_lng', 'member_casual'],\n",
      "      dtype='object')\n"
     ]
    }
   ],
   "source": [
    "print(classic_bike_data.columns)"
   ]
  },
  {
   "cell_type": "code",
   "execution_count": 38,
   "id": "ad97eb90-5d01-4f32-bff6-5c33d769a64b",
   "metadata": {},
   "outputs": [
    {
     "name": "stdout",
     "output_type": "stream",
     "text": [
      "Index(['ride_id', 'ride_id.1', 'rideable_type', 'started_at', 'ended_at',\n",
      "       'start_station_id', 'end_station_id', 'start_lat', 'start_lng',\n",
      "       'end_lat', 'end_lng', 'member_casual'],\n",
      "      dtype='object')\n"
     ]
    }
   ],
   "source": [
    "print(electric_bike_data.columns)"
   ]
  },
  {
   "cell_type": "code",
   "execution_count": 79,
   "id": "fe03c65b-5add-4c77-8c41-efe46b67b40a",
   "metadata": {},
   "outputs": [
    {
     "name": "stdout",
     "output_type": "stream",
     "text": [
      "Error while creating PostgreSQL table: relation \"classic_bike_table\" already exists\n",
      "\n"
     ]
    }
   ],
   "source": [
    "\n",
    "import psycopg2\n",
    "\n",
    "def create_classic_table(classic, table_name):\n",
    "    try:\n",
    "        cursor = classic.cursor()\n",
    "        create_table_query = '''\n",
    "        CREATE TABLE classic_bike_table (\n",
    "    ride_id INTEGER,\n",
    "    ride_id_1 INTEGER,\n",
    "    rideable_type VARCHAR,\n",
    "    started_at TIMESTAMP,\n",
    "    ended_at TIMESTAMP,\n",
    "    start_station_id INTEGER,\n",
    "    end_station_id INTEGER,\n",
    "    start_lat FLOAT,\n",
    "    start_lng FLOAT,\n",
    "    end_lat FLOAT,\n",
    "    end_lng FLOAT,\n",
    "    member_casual VARCHAR\n",
    ");\n",
    "        '''.format(table_name)\n",
    "        cursor.execute(create_table_query)\n",
    "        classic.commit()\n",
    "        print(\"Table created successfully!\")\n",
    "    except (Exception, psycopg2.DatabaseError) as error:\n",
    "        print(\"Error while creating PostgreSQL table:\", error)\n",
    "    finally:\n",
    "        if classic:\n",
    "            cursor.close()\n",
    "            classic.close()  # Close the database connection\n",
    "\n",
    "# Replace these variables with your PostgreSQL connection details\n",
    "host = \"localhost\"\n",
    "database = \"postgres\"\n",
    "user = \"postgres\"\n",
    "password = \"1234\"  # Replace with your actual password\n",
    "\n",
    "# Connect to the PostgreSQL database\n",
    "try:\n",
    "    classic = psycopg2.connect(\n",
    "        host=host,\n",
    "        database=database,\n",
    "        user=user,\n",
    "        password=password\n",
    "    )\n",
    "    table_name = \"classic_bike_table\"  # Define the table name\n",
    "    create_classic_table(classic, table_name)\n",
    "except (Exception, psycopg2.Error) as error:\n",
    "    print(\"Error while connecting to PostgreSQL:\", error)"
   ]
  },
  {
   "cell_type": "code",
   "execution_count": 68,
   "id": "cf1d4365-36c1-4c65-9798-8493e1b132a7",
   "metadata": {},
   "outputs": [
    {
     "name": "stdout",
     "output_type": "stream",
     "text": [
      "Table created successfully!\n"
     ]
    }
   ],
   "source": [
    "import psycopg2\n",
    "\n",
    "def create_electric_table(electric, table_name):\n",
    "    try:\n",
    "        cursor = electric.cursor()\n",
    "        create_table_query = '''\n",
    "        CREATE TABLE electric_bike_table (\n",
    "    ride_id VARCHAR(255),  -- Adjust the length as needed\n",
    "    ride_id_1 VARCHAR(255),\n",
    "    rideable_type VARCHAR(50),\n",
    "    started_at TIMESTAMP,\n",
    "    ended_at TIMESTAMP,\n",
    "    start_station_id INTEGER,\n",
    "    end_station_id INTEGER,\n",
    "    start_lat NUMERIC,\n",
    "    start_lng NUMERIC,\n",
    "    end_lat NUMERIC,\n",
    "    end_lng NUMERIC,\n",
    "    member_casual VARCHAR(50)\n",
    ");\n",
    "\n",
    "        '''.format(table_name)\n",
    "        cursor.execute(create_table_query)\n",
    "        electric.commit()\n",
    "        print(\"Table created successfully!\")\n",
    "    except (Exception, psycopg2.DatabaseError) as error:\n",
    "        print(\"Error while creating PostgreSQL table:\", error)\n",
    "    finally:\n",
    "        if electric:\n",
    "            cursor.close()\n",
    "            electric.close()  # Close the database connection\n",
    "\n",
    "# Replace these variables with your PostgreSQL connection details\n",
    "host = \"localhost\"\n",
    "database = \"postgres\"\n",
    "user = \"postgres\"\n",
    "password = \"1234\"  # Replace with your actual password\n",
    "\n",
    "# Connect to the PostgreSQL database\n",
    "try:\n",
    "    electric = psycopg2.connect(\n",
    "        host=host,\n",
    "        database=database,\n",
    "        user=user,\n",
    "        password=password\n",
    "    )\n",
    "    table_name = \"electric_table\"  # Define the table name\n",
    "    create_electric_table(electric, table_name)\n",
    "except (Exception, psycopg2.Error) as error:\n",
    "    print(\"Error while connecting to PostgreSQL:\", error)\n",
    "\n"
   ]
  },
  {
   "cell_type": "code",
   "execution_count": 77,
   "id": "76deeab8-d7d6-425f-b4cc-022f5c6c8149",
   "metadata": {},
   "outputs": [
    {
     "name": "stdout",
     "output_type": "stream",
     "text": [
      "Error: (psycopg2.errors.UndefinedColumn) column \"ride_id.1\" of relation \"classic_bike_table\" does not exist\n",
      "LINE 1: INSERT INTO classic_bike_table (ride_id, \"ride_id.1\", rideab...\n",
      "                                                 ^\n",
      "\n",
      "[SQL: INSERT INTO classic_bike_table (ride_id, \"ride_id.1\", rideable_type, started_at, ended_at, start_station_id, end_station_id, start_lat, start_lng, end_lat, end_lng, member_casual) VALUES (%(ride_id__0)s, %(ride_id_1__0)s, %(rideable_type__0)s, %(star ... 254515 characters truncated ...  %(start_lat__999)s, %(start_lng__999)s, %(end_lat__999)s, %(end_lng__999)s, %(member_casual__999)s)]\n",
      "[parameters: {'start_station_id__0': 'TA1306000016', 'end_lng__0': -87.6658, 'ride_id__0': '12c34cbf-bb0a-46ed-b5e6-3daff7ceb73e', 'end_lat__0': 41.92533, 'started_at__0': '2022-01-25 04:53:40', 'start_lat__0': 41.9256018819, 'ended_at__0': '2022-01-25 04:58:01', 'member_casual__0': 'member', 'ride_id_1__0': 'BD0F91DFF741C66D', 'start_lng__0': -87.6537080423, 'end_station_id__0': 'TA1307000001', 'rideable_type__0': 'classic_bike', 'start_station_id__1': 'KA1504000151', 'end_lng__1': -87.671387, 'ride_id__1': '283fafed-acde-4505-a5b7-bdbc16d2f9b3', 'end_lat__1': 41.961507, 'started_at__1': '2022-01-04 00:18:04', 'start_lat__1': 41.983593, 'ended_at__1': '2022-01-04 00:33:00', 'member_casual__1': 'casual', 'ride_id_1__1': 'CBB80ED419105406', 'start_lng__1': -87.669154, 'end_station_id__1': 'TA1309000021', 'rideable_type__1': 'classic_bike', 'start_station_id__2': 'TA1309000002', 'end_lng__2': -87.62783423066139, 'ride_id__2': '402fc5fa-3e2d-4ba0-b264-4de46d244be6', 'end_lat__2': 41.88462107257936, 'started_at__2': '2022-01-20 01:31:10', 'start_lat__2': 41.87785, 'ended_at__2': '2022-01-20 01:37:12', 'member_casual__2': 'member', 'ride_id_1__2': 'DDC963BFDDA51EEA', 'start_lng__2': -87.62408, 'end_station_id__2': 'TA1305000029', 'rideable_type__2': 'classic_bike', 'start_station_id__3': '637', 'end_lng__3': -87.673935, 'ride_id__3': '4812029f-2bfb-446b-853a-edcd7e4cc6e5', 'end_lat__3': 41.903119, 'started_at__3': '2022-01-11 18:48:09', 'start_lat__3': 41.895634, 'ended_at__3': '2022-01-11 18:51:31', 'member_casual__3': 'member', 'ride_id_1__3': 'A39C6F6CC0586C0B', 'start_lng__3': -87.672069, 'end_station_id__3': 'TA1305000034', 'rideable_type__3': 'classic_bike', 'start_station_id__4': 'KA1504000158', 'end_lng__4': -87.649993 ... 11900 parameters truncated ... 'end_station_id__995': '15578', 'rideable_type__995': 'classic_bike', 'start_station_id__996': 'TA1308000001', 'end_lng__996': -87.6523104689, 'ride_id__996': '4a8d3c19-2395-4061-8136-3b1a66f884b6', 'end_lat__996': 41.98403669612, 'started_at__996': '2022-01-15 16:11:30', 'start_lat__996': 41.926277, 'ended_at__996': '2022-01-15 16:46:50', 'member_casual__996': 'casual', 'ride_id_1__996': '51090B386F6D7911', 'start_lng__996': -87.630834, 'end_station_id__996': 'KA1504000152', 'rideable_type__996': 'classic_bike', 'start_station_id__997': '13016', 'end_lng__997': -87.626217, 'ride_id__997': '7ec2d635-61a9-406d-bdb5-94da7464be38', 'end_lat__997': 41.906866, 'started_at__997': '2022-01-13 19:46:29', 'start_lat__997': 41.89434513742426, 'ended_at__997': '2022-01-13 19:56:59', 'member_casual__997': 'casual', 'ride_id_1__997': 'C5A46044C5B73E53', 'start_lng__997': -87.62279838323593, 'end_station_id__997': 'KA1504000134', 'rideable_type__997': 'classic_bike', 'start_station_id__998': 'SL-005', 'end_lng__998': -87.62408, 'ride_id__998': '18782e47-b3f2-4f8e-b4e9-507ecae9baa6', 'end_lat__998': 41.87785, 'started_at__998': '2022-01-14 10:09:11', 'start_lat__998': 41.867888, 'ended_at__998': '2022-01-14 10:13:35', 'member_casual__998': 'member', 'ride_id_1__998': 'A2316FB3825974C5', 'start_lng__998': -87.623041, 'end_station_id__998': 'TA1309000002', 'rideable_type__998': 'classic_bike', 'start_station_id__999': 'SL-005', 'end_lng__999': -87.62408, 'ride_id__999': 'd4605448-d520-43bf-9ee2-0c7b2131bba6', 'end_lat__999': 41.87785, 'started_at__999': '2022-01-14 14:09:17', 'start_lat__999': 41.867888, 'ended_at__999': '2022-01-14 14:16:31', 'member_casual__999': 'member', 'ride_id_1__999': '0AF1F3D9551ACC95', 'start_lng__999': -87.623041, 'end_station_id__999': 'TA1309000002', 'rideable_type__999': 'classic_bike'}]\n",
      "(Background on this error at: https://sqlalche.me/e/20/f405)\n"
     ]
    }
   ],
   "source": [
    "import pandas as pd\n",
    "from sqlalchemy import create_engine\n",
    "\n",
    "df = pd.DataFrame(classic_bike_data)\n",
    "\n",
    "def load_dataframe_to_postgresql(dataframe, table_name, host, database, user, password):\n",
    "    try:\n",
    "        # Create SQLAlchemy engine\n",
    "        engine = create_engine(f'postgresql://{user}:{password}@{host}/{database}')\n",
    "        \n",
    "        # Load DataFrame to PostgreSQL table\n",
    "        dataframe.to_sql(table_name, engine, if_exists='append', index=False)\n",
    "        \n",
    "        print(f\"Data loaded successfully into PostgreSQL table '{table_name}'!\")\n",
    "    except Exception as e:\n",
    "        print(\"Error:\", e)\n",
    "\n",
    "# Define your PostgreSQL connection details\n",
    "host = \"localhost\"\n",
    "database = \"postgres\"\n",
    "user = \"postgres\"\n",
    "password = \"1234\" \n",
    "# Define the table name\n",
    "table_name = \"classic_bike_table\"\n",
    "# Call the function to load the DataFrame into PostgreSQL\n",
    "load_dataframe_to_postgresql(df, table_name, host, database, user, password)\n"
   ]
  },
  {
   "cell_type": "code",
   "execution_count": 71,
   "id": "f5a08777-7894-434c-9b81-2ec750d5cdeb",
   "metadata": {},
   "outputs": [
    {
     "name": "stdout",
     "output_type": "stream",
     "text": [
      "Error: (psycopg2.errors.UndefinedColumn) column \"ride_id.1\" of relation \"electric_bike_table\" does not exist\n",
      "LINE 1: INSERT INTO electric_bike_table (ride_id, \"ride_id.1\", ridea...\n",
      "                                                  ^\n",
      "\n",
      "[SQL: INSERT INTO electric_bike_table (ride_id, \"ride_id.1\", rideable_type, started_at, ended_at, start_station_id, end_station_id, start_lat, start_lng, end_lat, end_lng, member_casual) VALUES (%(ride_id__0)s, %(ride_id_1__0)s, %(rideable_type__0)s, %(sta ... 254516 characters truncated ...  %(start_lat__999)s, %(start_lng__999)s, %(end_lat__999)s, %(end_lng__999)s, %(member_casual__999)s)]\n",
      "[parameters: {'start_station_id__0': '525', 'end_lng__0': -87.6743671152, 'ride_id__0': 'd98d3ae6-ae41-4a2a-8535-b52c9383cc30', 'end_lat__0': 42.01256011541, 'started_at__0': '2022-01-13 11:59:47', 'start_lat__0': 42.0128005, 'ended_at__0': '2022-01-13 12:02:44', 'member_casual__0': 'casual', 'ride_id_1__0': 'C2F7DD78E82EC875', 'start_lng__0': -87.665906, 'end_station_id__0': 'RP-007', 'rideable_type__0': 'electric_bike', 'start_station_id__1': '525', 'end_lng__1': -87.6743671152, 'ride_id__1': 'd692fca5-d1ff-4b4a-b1a3-d0eb2627f1b0', 'end_lat__1': 42.01256011541, 'started_at__1': '2022-01-10 08:41:56', 'start_lat__1': 42.012763, 'ended_at__1': '2022-01-10 08:46:17', 'member_casual__1': 'casual', 'ride_id_1__1': 'A6CF8980A652D272', 'start_lng__1': -87.6659675, 'end_station_id__1': 'RP-007', 'rideable_type__1': 'electric_bike', 'start_station_id__2': '13304', 'end_lng__2': -87.64117, 'ride_id__2': '6997d20f-bab4-45a9-a5ae-3ffd22f64e9d', 'end_lat__2': 41.88338, 'started_at__2': '2022-01-17 07:34:41', 'start_lat__2': 41.861251333333335, 'ended_at__2': '2022-01-17 08:00:08', 'member_casual__2': 'member', 'ride_id_1__2': '154222B86A338ABD', 'start_lng__2': -87.65650016666666, 'end_station_id__2': 'WL-012', 'rideable_type__2': 'electric_bike', 'start_station_id__3': 'TA1307000119', 'end_lng__3': -87.6602845349, 'ride_id__3': 'edc17ae0-48f8-4f56-8c26-4cb08e64c1f3', 'end_lat__3': 41.9947796884, 'started_at__3': '2022-01-29 12:30:43', 'start_lat__3': 41.967962, 'ended_at__3': '2022-01-29 12:43:04', 'member_casual__3': 'member', 'ride_id_1__3': '006D3F363CF9600B', 'start_lng__3': -87.6500285, 'end_station_id__3': '15571', 'rideable_type__3': 'electric_bike', 'start_station_id__4': 'TA1309000002', 'end_lng__4': -87.62279838323593 ... 11900 parameters truncated ... 'end_station_id__995': 'TA1309000025', 'rideable_type__995': 'electric_bike', 'start_station_id__996': '15644', 'end_lng__996': -87.711561, 'ride_id__996': 'b02e0d5c-39bf-44d7-843f-908a0e4f81d8', 'end_lat__996': 41.939398, 'started_at__996': '2022-01-19 12:45:11', 'start_lat__996': 41.93532483333333, 'ended_at__996': '2022-01-19 12:49:31', 'member_casual__996': 'member', 'ride_id_1__996': '226581B6A5F21743', 'start_lng__996': -87.7167775, 'end_station_id__996': 'KA150400009X', 'rideable_type__996': 'electric_bike', 'start_station_id__997': '15644', 'end_lng__997': -87.711561, 'ride_id__997': '211bc988-c94d-4c3a-8c33-3f4258c65c47', 'end_lat__997': 41.939398, 'started_at__997': '2022-01-19 20:36:01', 'start_lat__997': 41.935284, 'ended_at__997': '2022-01-19 20:39:10', 'member_casual__997': 'member', 'ride_id_1__997': '6FE7B1A533AAB24E', 'start_lng__997': -87.71674383333334, 'end_station_id__997': 'KA150400009X', 'rideable_type__997': 'electric_bike', 'start_station_id__998': '15644', 'end_lng__998': -87.711561, 'ride_id__998': 'dfc9a056-f9f0-4142-af28-1ff12da3dbd6', 'end_lat__998': 41.939398, 'started_at__998': '2022-01-12 16:29:55', 'start_lat__998': 41.9353965, 'ended_at__998': '2022-01-12 16:52:09', 'member_casual__998': 'member', 'ride_id_1__998': '1E0A1935EED3E782', 'start_lng__998': -87.71679733333333, 'end_station_id__998': 'KA150400009X', 'rideable_type__998': 'electric_bike', 'start_station_id__999': '15644', 'end_lng__999': -87.711561, 'ride_id__999': '2dfd8d94-cf20-4444-a794-6286eae40ea9', 'end_lat__999': 41.939398, 'started_at__999': '2022-01-15 18:43:41', 'start_lat__999': 41.93531566666667, 'ended_at__999': '2022-01-15 18:46:55', 'member_casual__999': 'member', 'ride_id_1__999': 'B2C6BDF2ABC24B11', 'start_lng__999': -87.71677816666667, 'end_station_id__999': 'KA150400009X', 'rideable_type__999': 'electric_bike'}]\n",
      "(Background on this error at: https://sqlalche.me/e/20/f405)\n",
      "                                     ride_id         ride_id.1  rideable_type  \\\n",
      "0       d98d3ae6-ae41-4a2a-8535-b52c9383cc30  C2F7DD78E82EC875  electric_bike   \n",
      "1       d692fca5-d1ff-4b4a-b1a3-d0eb2627f1b0  A6CF8980A652D272  electric_bike   \n",
      "8       6997d20f-bab4-45a9-a5ae-3ffd22f64e9d  154222B86A338ABD  electric_bike   \n",
      "11      edc17ae0-48f8-4f56-8c26-4cb08e64c1f3  006D3F363CF9600B  electric_bike   \n",
      "14      a7f9deeb-d9b0-4442-8c5e-4f8a02098763  E119D4E6BF686601  electric_bike   \n",
      "...                                      ...               ...            ...   \n",
      "503406  5ffda94e-bbc6-47f2-a660-778618013b52  155C49327D325C09  electric_bike   \n",
      "503407  a85bb314-7141-4d50-b431-ef456add987c  035E57A7EC67DDF4  electric_bike   \n",
      "503415  7442aa2a-7863-49c6-bffc-11a58cdb7f56  A2A6F07D3DF4D0D6  electric_bike   \n",
      "503418  7a850b1a-4e51-4723-afe4-4a5972a7db21  9C4CE6CC19F8225B  electric_bike   \n",
      "503419  172d7e6b-794e-42a8-bfda-9bccc2c2ea08  F4E136DEF696F3AE  electric_bike   \n",
      "\n",
      "                 started_at             ended_at start_station_id  \\\n",
      "0       2022-01-13 11:59:47  2022-01-13 12:02:44              525   \n",
      "1       2022-01-10 08:41:56  2022-01-10 08:46:17              525   \n",
      "8       2022-01-17 07:34:41  2022-01-17 08:00:08            13304   \n",
      "11      2022-01-29 12:30:43  2022-01-29 12:43:04     TA1307000119   \n",
      "14      2022-01-08 05:36:40  2022-01-08 05:46:40     TA1309000002   \n",
      "...                     ...                  ...              ...   \n",
      "503406  2022-03-22 09:05:33  2022-03-22 09:09:58     TA1305000022   \n",
      "503407  2022-03-25 10:22:43  2022-03-25 10:37:16     TA1306000013   \n",
      "503415  2022-03-09 20:29:48  2022-03-09 21:01:30            13063   \n",
      "503418  2022-03-09 15:55:26  2022-03-09 16:08:54     KA1503000043   \n",
      "503419  2022-03-21 16:12:44  2022-03-21 16:18:24     KA1503000043   \n",
      "\n",
      "       end_station_id  start_lat  start_lng    end_lat    end_lng  \\\n",
      "0              RP-007  42.012800 -87.665906  42.012560 -87.674367   \n",
      "1              RP-007  42.012763 -87.665967  42.012560 -87.674367   \n",
      "8              WL-012  41.861251 -87.656500  41.883380 -87.641170   \n",
      "11              15571  41.967962 -87.650029  41.994780 -87.660285   \n",
      "14              13016  41.877849 -87.624056  41.894345 -87.622798   \n",
      "...               ...        ...        ...        ...        ...   \n",
      "503406   TA1309000008  41.888293 -87.636374  41.879434 -87.635504   \n",
      "503407          13022  41.890680 -87.618092  41.892278 -87.612043   \n",
      "503415          13022  41.954276 -87.654407  41.892278 -87.612043   \n",
      "503418          15621  41.940000 -87.710000  41.961041 -87.705866   \n",
      "503419   KA1504000079  41.910000 -87.650000  41.903486 -87.643353   \n",
      "\n",
      "       member_casual  \n",
      "0             casual  \n",
      "1             casual  \n",
      "8             member  \n",
      "11            member  \n",
      "14            casual  \n",
      "...              ...  \n",
      "503406        member  \n",
      "503407        member  \n",
      "503415        casual  \n",
      "503418        member  \n",
      "503419        member  \n",
      "\n",
      "[243821 rows x 12 columns]\n"
     ]
    }
   ],
   "source": [
    "import pandas as pd\n",
    "from sqlalchemy import create_engine\n",
    "\n",
    "# Define your DataFrame with your data\n",
    "df = pd.DataFrame(electric_bike_data)\n",
    "\n",
    "def load_dataframe_to_postgresql(dataframe, table_name, host, database, user, password):\n",
    "    try:\n",
    "        # Create SQLAlchemy engine\n",
    "        engine = create_engine(f'postgresql://{user}:{password}@{host}/{database}')\n",
    "        \n",
    "        # Load DataFrame to PostgreSQL table\n",
    "        dataframe.to_sql(table_name, engine, if_exists='append', index=False)\n",
    "        \n",
    "        print(f\"Data loaded successfully into PostgreSQL table '{table_name}'!\")\n",
    "    except Exception as e:\n",
    "        print(\"Error:\", e)\n",
    "\n",
    "\n",
    "# Define your PostgreSQL connection details\n",
    "host = \"localhost\"\n",
    "database = \"postgres\"\n",
    "user = \"postgres\"\n",
    "password = \"1234\" \n",
    "# Define the table name\n",
    "table_name = \"electric_bike_table\"\n",
    "# Call the function to load the DataFrame into PostgreSQL\n",
    "load_dataframe_to_postgresql(df, table_name, host, database, user, password)\n",
    "print(electric_bike_data)"
   ]
  },
  {
   "cell_type": "code",
   "execution_count": null,
   "id": "e0cb991d-0293-47ad-b5c3-4f7a4a1805a0",
   "metadata": {},
   "outputs": [],
   "source": []
  }
 ],
 "metadata": {
  "kernelspec": {
   "display_name": "Python 3 (ipykernel)",
   "language": "python",
   "name": "python3"
  },
  "language_info": {
   "codemirror_mode": {
    "name": "ipython",
    "version": 3
   },
   "file_extension": ".py",
   "mimetype": "text/x-python",
   "name": "python",
   "nbconvert_exporter": "python",
   "pygments_lexer": "ipython3",
   "version": "3.11.7"
  }
 },
 "nbformat": 4,
 "nbformat_minor": 5
}
